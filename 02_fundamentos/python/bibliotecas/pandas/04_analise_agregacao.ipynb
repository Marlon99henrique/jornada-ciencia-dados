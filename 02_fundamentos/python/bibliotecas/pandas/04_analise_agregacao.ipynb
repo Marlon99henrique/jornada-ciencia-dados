{
 "cells": [
  {
   "cell_type": "markdown",
   "id": "f839a114-467c-4139-84c6-e1e10be97d30",
   "metadata": {},
   "source": [
    "# 📊 Análise e Agregação de Dados com Pandas\n",
    "\n",
    "## 1. Introdução\n",
    "\n",
    "Neste projeto, o foco é demonstrar como a **análise de agregação** pode ser utilizada para transformar dados brutos em resumos informativos e insights acionáveis. Utilizaremos a biblioteca `pandas` para agrupar e resumir dados de vendas hipotéticas, respondendo a perguntas de negócio como \"qual produto vendeu mais?\" e \"qual região gerou maior receita?\".\n",
    "\n",
    "---\n",
    "## 2. Importação de Bibliotecas\n",
    "\n",
    "Primeiro, importamos as bibliotecas necessárias para a análise: `pandas` para manipulação de dados, e `matplotlib` e `seaborn` para visualização.\n",
    "\n"
   ]
  },
  {
   "cell_type": "code",
   "execution_count": 7,
   "id": "fbdd02ad-0466-4b81-a6e8-70ff2d4ef6a4",
   "metadata": {},
   "outputs": [],
   "source": [
    "import pandas as pd\n",
    "import numpy as np\n",
    "import matplotlib.pyplot as plt\n",
    "import seaborn as sns\n",
    "\n",
    "# Configurações para melhorar a visualização\n",
    "sns.set_style('whitegrid')\n",
    "plt.style.use('seaborn-v0_8-whitegrid')\n",
    "%matplotlib inline"
   ]
  },
  {
   "cell_type": "markdown",
   "id": "9e46af3b-bc13-4c34-a890-18bbd6cc8db8",
   "metadata": {},
   "source": [
    "---\n",
    "## 3. Carregamento e Visualização Inicial dos Dados\n",
    "Vamos criar um `DataFrame` de exemplo que representa um conjunto de dados de vendas."
   ]
  },
  {
   "cell_type": "code",
   "execution_count": 2,
   "id": "497bae98-6ca9-4b3f-b92b-1389467dbd8d",
   "metadata": {},
   "outputs": [
    {
     "name": "stdout",
     "output_type": "stream",
     "text": [
      "Primeiras 5 linhas do DataFrame:\n"
     ]
    },
    {
     "data": {
      "text/html": [
       "<div>\n",
       "<style scoped>\n",
       "    .dataframe tbody tr th:only-of-type {\n",
       "        vertical-align: middle;\n",
       "    }\n",
       "\n",
       "    .dataframe tbody tr th {\n",
       "        vertical-align: top;\n",
       "    }\n",
       "\n",
       "    .dataframe thead th {\n",
       "        text-align: right;\n",
       "    }\n",
       "</style>\n",
       "<table border=\"1\" class=\"dataframe\">\n",
       "  <thead>\n",
       "    <tr style=\"text-align: right;\">\n",
       "      <th></th>\n",
       "      <th>ID_Venda</th>\n",
       "      <th>Data</th>\n",
       "      <th>Regiao</th>\n",
       "      <th>Produto</th>\n",
       "      <th>Categoria</th>\n",
       "      <th>Quantidade</th>\n",
       "      <th>Preco_Unitario</th>\n",
       "      <th>Receita</th>\n",
       "    </tr>\n",
       "  </thead>\n",
       "  <tbody>\n",
       "    <tr>\n",
       "      <th>0</th>\n",
       "      <td>101</td>\n",
       "      <td>2024-04-28</td>\n",
       "      <td>Norte</td>\n",
       "      <td>Produto D</td>\n",
       "      <td>Eletrônicos</td>\n",
       "      <td>5</td>\n",
       "      <td>10.68</td>\n",
       "      <td>53.40</td>\n",
       "    </tr>\n",
       "    <tr>\n",
       "      <th>1</th>\n",
       "      <td>102</td>\n",
       "      <td>2024-05-31</td>\n",
       "      <td>Leste</td>\n",
       "      <td>Produto A</td>\n",
       "      <td>Vestuário</td>\n",
       "      <td>9</td>\n",
       "      <td>84.29</td>\n",
       "      <td>758.61</td>\n",
       "    </tr>\n",
       "    <tr>\n",
       "      <th>2</th>\n",
       "      <td>103</td>\n",
       "      <td>2024-03-04</td>\n",
       "      <td>Sul</td>\n",
       "      <td>Produto D</td>\n",
       "      <td>Eletrônicos</td>\n",
       "      <td>1</td>\n",
       "      <td>68.89</td>\n",
       "      <td>68.89</td>\n",
       "    </tr>\n",
       "    <tr>\n",
       "      <th>3</th>\n",
       "      <td>104</td>\n",
       "      <td>2024-01-07</td>\n",
       "      <td>Norte</td>\n",
       "      <td>Produto A</td>\n",
       "      <td>Eletrônicos</td>\n",
       "      <td>9</td>\n",
       "      <td>23.07</td>\n",
       "      <td>207.63</td>\n",
       "    </tr>\n",
       "    <tr>\n",
       "      <th>4</th>\n",
       "      <td>105</td>\n",
       "      <td>2024-04-15</td>\n",
       "      <td>Norte</td>\n",
       "      <td>Produto D</td>\n",
       "      <td>Eletrônicos</td>\n",
       "      <td>9</td>\n",
       "      <td>36.30</td>\n",
       "      <td>326.70</td>\n",
       "    </tr>\n",
       "  </tbody>\n",
       "</table>\n",
       "</div>"
      ],
      "text/plain": [
       "   ID_Venda       Data Regiao    Produto    Categoria  Quantidade  \\\n",
       "0       101 2024-04-28  Norte  Produto D  Eletrônicos           5   \n",
       "1       102 2024-05-31  Leste  Produto A    Vestuário           9   \n",
       "2       103 2024-03-04    Sul  Produto D  Eletrônicos           1   \n",
       "3       104 2024-01-07  Norte  Produto A  Eletrônicos           9   \n",
       "4       105 2024-04-15  Norte  Produto D  Eletrônicos           9   \n",
       "\n",
       "   Preco_Unitario  Receita  \n",
       "0           10.68    53.40  \n",
       "1           84.29   758.61  \n",
       "2           68.89    68.89  \n",
       "3           23.07   207.63  \n",
       "4           36.30   326.70  "
      ]
     },
     "metadata": {},
     "output_type": "display_data"
    },
    {
     "name": "stdout",
     "output_type": "stream",
     "text": [
      "\n",
      "Informações sobre o DataFrame:\n",
      "<class 'pandas.core.frame.DataFrame'>\n",
      "RangeIndex: 20 entries, 0 to 19\n",
      "Data columns (total 8 columns):\n",
      " #   Column          Non-Null Count  Dtype         \n",
      "---  ------          --------------  -----         \n",
      " 0   ID_Venda        20 non-null     int64         \n",
      " 1   Data            20 non-null     datetime64[ns]\n",
      " 2   Regiao          20 non-null     object        \n",
      " 3   Produto         20 non-null     object        \n",
      " 4   Categoria       20 non-null     object        \n",
      " 5   Quantidade      20 non-null     int32         \n",
      " 6   Preco_Unitario  20 non-null     float64       \n",
      " 7   Receita         20 non-null     float64       \n",
      "dtypes: datetime64[ns](1), float64(2), int32(1), int64(1), object(3)\n",
      "memory usage: 1.3+ KB\n"
     ]
    }
   ],
   "source": [
    "# Criando um DataFrame de exemplo\n",
    "data = {\n",
    "    'ID_Venda': range(101, 121),\n",
    "    'Data': pd.to_datetime(np.random.choice(pd.date_range('2024-01-01', '2024-06-30'), 20)),\n",
    "    'Regiao': np.random.choice(['Norte', 'Sul', 'Leste', 'Oeste'], 20),\n",
    "    'Produto': np.random.choice(['Produto A', 'Produto B', 'Produto C', 'Produto D'], 20),\n",
    "    'Categoria': np.random.choice(['Eletrônicos', 'Vestuário', 'Alimentos'], 20),\n",
    "    'Quantidade': np.random.randint(1, 10, 20),\n",
    "    'Preco_Unitario': np.random.uniform(10, 100, 20).round(2)\n",
    "}\n",
    "\n",
    "df_vendas = pd.DataFrame(data)\n",
    "\n",
    "# Criando a coluna de receita total\n",
    "df_vendas['Receita'] = df_vendas['Quantidade'] * df_vendas['Preco_Unitario']\n",
    "\n",
    "# Exibindo as primeiras linhas do DataFrame\n",
    "print(\"Primeiras 5 linhas do DataFrame:\")\n",
    "display(df_vendas.head())\n",
    "\n",
    "# Verificando informações gerais sobre os dados\n",
    "print(\"\\nInformações sobre o DataFrame:\")\n",
    "df_vendas.info()"
   ]
  },
  {
   "cell_type": "markdown",
   "id": "46ba91d8-2cb1-4891-8ddb-44a8e7c48277",
   "metadata": {},
   "source": [
    "---\n",
    "## 4. Análise e Agregação de Dados\n",
    "Aqui, usamos o método `.groupby()` do pandas para agrupar os dados e aplicar funções de agregação, como `sum()`, `mean()`, `count()`, etc.  \n",
    "### 01_Agrupamento por Produto  \n",
    "Vamos calcular a **receita total** e a **quantidade vendida por produto**."
   ]
  },
  {
   "cell_type": "code",
   "execution_count": 3,
   "id": "78c9f5c1-36bf-4af5-bd9a-f36e6d9405be",
   "metadata": {},
   "outputs": [
    {
     "name": "stdout",
     "output_type": "stream",
     "text": [
      "Receita total e quantidade por produto (ordenado):\n"
     ]
    },
    {
     "data": {
      "text/html": [
       "<div>\n",
       "<style scoped>\n",
       "    .dataframe tbody tr th:only-of-type {\n",
       "        vertical-align: middle;\n",
       "    }\n",
       "\n",
       "    .dataframe tbody tr th {\n",
       "        vertical-align: top;\n",
       "    }\n",
       "\n",
       "    .dataframe thead th {\n",
       "        text-align: right;\n",
       "    }\n",
       "</style>\n",
       "<table border=\"1\" class=\"dataframe\">\n",
       "  <thead>\n",
       "    <tr style=\"text-align: right;\">\n",
       "      <th></th>\n",
       "      <th>Produto</th>\n",
       "      <th>Receita_Total</th>\n",
       "      <th>Quantidade_Total</th>\n",
       "    </tr>\n",
       "  </thead>\n",
       "  <tbody>\n",
       "    <tr>\n",
       "      <th>3</th>\n",
       "      <td>Produto D</td>\n",
       "      <td>2517.53</td>\n",
       "      <td>54</td>\n",
       "    </tr>\n",
       "    <tr>\n",
       "      <th>0</th>\n",
       "      <td>Produto A</td>\n",
       "      <td>1994.40</td>\n",
       "      <td>32</td>\n",
       "    </tr>\n",
       "    <tr>\n",
       "      <th>2</th>\n",
       "      <td>Produto C</td>\n",
       "      <td>858.76</td>\n",
       "      <td>14</td>\n",
       "    </tr>\n",
       "    <tr>\n",
       "      <th>1</th>\n",
       "      <td>Produto B</td>\n",
       "      <td>542.54</td>\n",
       "      <td>11</td>\n",
       "    </tr>\n",
       "  </tbody>\n",
       "</table>\n",
       "</div>"
      ],
      "text/plain": [
       "     Produto  Receita_Total  Quantidade_Total\n",
       "3  Produto D        2517.53                54\n",
       "0  Produto A        1994.40                32\n",
       "2  Produto C         858.76                14\n",
       "1  Produto B         542.54                11"
      ]
     },
     "metadata": {},
     "output_type": "display_data"
    },
    {
     "name": "stderr",
     "output_type": "stream",
     "text": [
      "C:\\Users\\marlo\\AppData\\Local\\Temp\\ipykernel_2312\\2332188748.py:14: FutureWarning: \n",
      "\n",
      "Passing `palette` without assigning `hue` is deprecated and will be removed in v0.14.0. Assign the `x` variable to `hue` and set `legend=False` for the same effect.\n",
      "\n",
      "  sns.barplot(x='Produto', y='Receita_Total', data=vendas_por_produto_ordenado, palette='viridis')\n"
     ]
    },
    {
     "data": {
      "image/png": "[encoded data removed]",
      "text/plain": [
       "<Figure size 1000x600 with 1 Axes>"
      ]
     },
     "metadata": {},
     "output_type": "display_data"
    }
   ],
   "source": [
    "# Agrupando por 'Produto' e somando 'Quantidade' e 'Receita'\n",
    "vendas_por_produto = df_vendas.groupby('Produto').agg(\n",
    "    Receita_Total=('Receita', 'sum'),\n",
    "    Quantidade_Total=('Quantidade', 'sum')\n",
    ").reset_index()\n",
    "\n",
    "# Ordenando para ver os produtos mais vendidos\n",
    "vendas_por_produto_ordenado = vendas_por_produto.sort_values(by='Receita_Total', ascending=False)\n",
    "print(\"Receita total e quantidade por produto (ordenado):\")\n",
    "display(vendas_por_produto_ordenado)\n",
    "\n",
    "# Visualização: Receita por Produto\n",
    "plt.figure(figsize=(10, 6))\n",
    "sns.barplot(x='Produto', y='Receita_Total', data=vendas_por_produto_ordenado, palette='viridis')\n",
    "plt.title('Receita Total por Produto')\n",
    "plt.xlabel('Produto')\n",
    "plt.ylabel('Receita Total ($)')\n",
    "plt.show()"
   ]
  },
  {
   "cell_type": "markdown",
   "id": "b7bb8e52-c758-4fd5-9ca9-514e8e68b1da",
   "metadata": {},
   "source": [
    "### 02_Agrupamento por Múltiplas Colunas  \n",
    "Agora, vamos analisar a receita total por **região** e **categoria**."
   ]
  },
  {
   "cell_type": "code",
   "execution_count": 5,
   "id": "418e401c-7506-495f-bf47-a88f557580ab",
   "metadata": {},
   "outputs": [
    {
     "name": "stdout",
     "output_type": "stream",
     "text": [
      "Receita por Região e Categoria:\n"
     ]
    },
    {
     "data": {
      "text/html": [
       "<div>\n",
       "<style scoped>\n",
       "    .dataframe tbody tr th:only-of-type {\n",
       "        vertical-align: middle;\n",
       "    }\n",
       "\n",
       "    .dataframe tbody tr th {\n",
       "        vertical-align: top;\n",
       "    }\n",
       "\n",
       "    .dataframe thead th {\n",
       "        text-align: right;\n",
       "    }\n",
       "</style>\n",
       "<table border=\"1\" class=\"dataframe\">\n",
       "  <thead>\n",
       "    <tr style=\"text-align: right;\">\n",
       "      <th></th>\n",
       "      <th>Regiao</th>\n",
       "      <th>Categoria</th>\n",
       "      <th>Receita_Total</th>\n",
       "    </tr>\n",
       "  </thead>\n",
       "  <tbody>\n",
       "    <tr>\n",
       "      <th>0</th>\n",
       "      <td>Leste</td>\n",
       "      <td>Alimentos</td>\n",
       "      <td>1457.54</td>\n",
       "    </tr>\n",
       "    <tr>\n",
       "      <th>1</th>\n",
       "      <td>Leste</td>\n",
       "      <td>Vestuário</td>\n",
       "      <td>801.30</td>\n",
       "    </tr>\n",
       "    <tr>\n",
       "      <th>2</th>\n",
       "      <td>Norte</td>\n",
       "      <td>Alimentos</td>\n",
       "      <td>452.83</td>\n",
       "    </tr>\n",
       "    <tr>\n",
       "      <th>3</th>\n",
       "      <td>Norte</td>\n",
       "      <td>Eletrônicos</td>\n",
       "      <td>768.32</td>\n",
       "    </tr>\n",
       "    <tr>\n",
       "      <th>4</th>\n",
       "      <td>Norte</td>\n",
       "      <td>Vestuário</td>\n",
       "      <td>120.60</td>\n",
       "    </tr>\n",
       "    <tr>\n",
       "      <th>5</th>\n",
       "      <td>Oeste</td>\n",
       "      <td>Eletrônicos</td>\n",
       "      <td>472.92</td>\n",
       "    </tr>\n",
       "    <tr>\n",
       "      <th>6</th>\n",
       "      <td>Oeste</td>\n",
       "      <td>Vestuário</td>\n",
       "      <td>800.25</td>\n",
       "    </tr>\n",
       "    <tr>\n",
       "      <th>7</th>\n",
       "      <td>Sul</td>\n",
       "      <td>Alimentos</td>\n",
       "      <td>587.40</td>\n",
       "    </tr>\n",
       "    <tr>\n",
       "      <th>8</th>\n",
       "      <td>Sul</td>\n",
       "      <td>Eletrônicos</td>\n",
       "      <td>452.07</td>\n",
       "    </tr>\n",
       "  </tbody>\n",
       "</table>\n",
       "</div>"
      ],
      "text/plain": [
       "  Regiao    Categoria  Receita_Total\n",
       "0  Leste    Alimentos        1457.54\n",
       "1  Leste    Vestuário         801.30\n",
       "2  Norte    Alimentos         452.83\n",
       "3  Norte  Eletrônicos         768.32\n",
       "4  Norte    Vestuário         120.60\n",
       "5  Oeste  Eletrônicos         472.92\n",
       "6  Oeste    Vestuário         800.25\n",
       "7    Sul    Alimentos         587.40\n",
       "8    Sul  Eletrônicos         452.07"
      ]
     },
     "metadata": {},
     "output_type": "display_data"
    },
    {
     "data": {
      "image/png": "[encoded data removed]",
      "text/plain": [
       "<Figure size 1200x700 with 1 Axes>"
      ]
     },
     "metadata": {},
     "output_type": "display_data"
    }
   ],
   "source": [
    "# Agrupando por 'Regiao' e 'Categoria'\n",
    "receita_por_regiao_categoria = df_vendas.groupby(['Regiao', 'Categoria']).agg(\n",
    "    Receita_Total=('Receita', 'sum')\n",
    ").reset_index()\n",
    "\n",
    "print(\"Receita por Região e Categoria:\")\n",
    "display(receita_por_regiao_categoria)\n",
    "\n",
    "# Visualização: Receita por Região e Categoria\n",
    "plt.figure(figsize=(12, 7))\n",
    "sns.barplot(x='Regiao', y='Receita_Total', hue='Categoria', data=receita_por_regiao_categoria, palette='pastel')\n",
    "plt.title('Receita Total por Região e Categoria')\n",
    "plt.xlabel('Região')\n",
    "plt.ylabel('Receita Total ($)')\n",
    "plt.legend(title='Categoria', bbox_to_anchor=(1.05, 1), loc='upper left')\n",
    "plt.show()"
   ]
  },
  {
   "cell_type": "markdown",
   "id": "0c517e15-3bbe-466a-862d-dec1885a6d67",
   "metadata": {},
   "source": [
    "### 03_Tabela Dinâmica (`.pivot_table()`)\n",
    "Para uma visualização de tabela mais clara, podemos usar `pivot_table` para resumir os dados."
   ]
  },
  {
   "cell_type": "code",
   "execution_count": 6,
   "id": "5de2be16-26df-476c-acdf-c9f89d1dd66e",
   "metadata": {},
   "outputs": [
    {
     "name": "stdout",
     "output_type": "stream",
     "text": [
      "Tabela Dinâmica: Quantidade vendida por Região e Categoria\n"
     ]
    },
    {
     "data": {
      "text/html": [
       "<div>\n",
       "<style scoped>\n",
       "    .dataframe tbody tr th:only-of-type {\n",
       "        vertical-align: middle;\n",
       "    }\n",
       "\n",
       "    .dataframe tbody tr th {\n",
       "        vertical-align: top;\n",
       "    }\n",
       "\n",
       "    .dataframe thead th {\n",
       "        text-align: right;\n",
       "    }\n",
       "</style>\n",
       "<table border=\"1\" class=\"dataframe\">\n",
       "  <thead>\n",
       "    <tr style=\"text-align: right;\">\n",
       "      <th>Categoria</th>\n",
       "      <th>Alimentos</th>\n",
       "      <th>Eletrônicos</th>\n",
       "      <th>Vestuário</th>\n",
       "    </tr>\n",
       "    <tr>\n",
       "      <th>Regiao</th>\n",
       "      <th></th>\n",
       "      <th></th>\n",
       "      <th></th>\n",
       "    </tr>\n",
       "  </thead>\n",
       "  <tbody>\n",
       "    <tr>\n",
       "      <th>Leste</th>\n",
       "      <td>28</td>\n",
       "      <td>0</td>\n",
       "      <td>12</td>\n",
       "    </tr>\n",
       "    <tr>\n",
       "      <th>Norte</th>\n",
       "      <td>7</td>\n",
       "      <td>28</td>\n",
       "      <td>2</td>\n",
       "    </tr>\n",
       "    <tr>\n",
       "      <th>Oeste</th>\n",
       "      <td>0</td>\n",
       "      <td>6</td>\n",
       "      <td>11</td>\n",
       "    </tr>\n",
       "    <tr>\n",
       "      <th>Sul</th>\n",
       "      <td>9</td>\n",
       "      <td>8</td>\n",
       "      <td>0</td>\n",
       "    </tr>\n",
       "  </tbody>\n",
       "</table>\n",
       "</div>"
      ],
      "text/plain": [
       "Categoria  Alimentos  Eletrônicos  Vestuário\n",
       "Regiao                                      \n",
       "Leste             28            0         12\n",
       "Norte              7           28          2\n",
       "Oeste              0            6         11\n",
       "Sul                9            8          0"
      ]
     },
     "metadata": {},
     "output_type": "display_data"
    }
   ],
   "source": [
    "# Criando uma tabela dinâmica para mostrar a soma das quantidades por Região e Categoria\n",
    "tabela_dinamica_quantidade = df_vendas.pivot_table(\n",
    "    values='Quantidade',\n",
    "    index='Regiao',\n",
    "    columns='Categoria',\n",
    "    aggfunc='sum',\n",
    "    fill_value=0\n",
    ")\n",
    "\n",
    "print(\"Tabela Dinâmica: Quantidade vendida por Região e Categoria\")\n",
    "display(tabela_dinamica_quantidade)"
   ]
  },
  {
   "cell_type": "markdown",
   "id": "5149af9e-d32b-4b1d-99c0-4c49fbc016c1",
   "metadata": {},
   "source": [
    "---\n",
    "## 🏁 5. Conclusão\n",
    "Através da agregação de dados, foi possível obter rapidamente insights valiosos sobre o desempenho das vendas. A análise mostrou:\n",
    "- Os produtos com **maior** e **menor receita**.  \n",
    "- O desempenho de **vendas** em **diferentes regiões** e **categorias**.  \n",
    "- Uma visão geral da **distribuição de vendas** por **região** e **categoria** através da **tabela dinâmica**.\n",
    "\n"
   ]
  }
 ],
 "metadata": {
  "kernelspec": {
   "display_name": "Python [conda env:base] *",
   "language": "python",
   "name": "conda-base-py"
  },
  "language_info": {
   "codemirror_mode": {
    "name": "ipython",
    "version": 3
   },
   "file_extension": ".py",
   "mimetype": "text/x-python",
   "name": "python",
   "nbconvert_exporter": "python",
   "pygments_lexer": "ipython3",
   "version": "3.12.7"
  }
 },
 "nbformat": 4,
 "nbformat_minor": 5
}
