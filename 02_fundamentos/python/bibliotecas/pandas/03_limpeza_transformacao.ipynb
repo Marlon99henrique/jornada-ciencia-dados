{
 "cells": [
  {
   "cell_type": "markdown",
   "id": "963a5f46-a2ed-42cd-b776-7e379bc805b6",
   "metadata": {},
   "source": [
    "# 🧹 Limpeza e Transformação de Dados com Pandas\n",
    "\n",
    "## 1. Introdução\n",
    "\n",
    "A limpeza e transformação de dados são etapas cruciais em qualquer projeto de análise. Dados brutos raramente vêm prontos para uso, e o Pandas oferece ferramentas poderosas para lidar com valores ausentes, duplicados e formatos inconsistentes.\n",
    "\n",
    "Neste notebook, vamos:\n",
    "1.  Identificar e tratar valores ausentes.\n",
    "2.  Remover dados duplicados.\n",
    "3.  Converter e padronizar tipos de dados.\n",
    "4.  Realizar transformações para criar novas informações.\n",
    "\n",
    "Usaremos o famoso dataset do Titanic, que contém problemas comuns de dados.\n",
    "\n",
    "---\n",
    "\n",
    "## 2. Configuração e Carregamento dos Dados\n",
    "\n",
    "Vamos importar o Pandas e carregar o dataset do Titanic.\n",
    "\n"
   ]
  },
  {
   "cell_type": "code",
   "execution_count": 3,
   "id": "225bdefc-7f99-4185-9609-5cf396f5dd6e",
   "metadata": {},
   "outputs": [
    {
     "name": "stdout",
     "output_type": "stream",
     "text": [
      "Visualização inicial dos dados:\n",
      "   PassengerId  Survived  Pclass  \\\n",
      "0            1         0       3   \n",
      "1            2         1       1   \n",
      "2            3         1       3   \n",
      "3            4         1       1   \n",
      "4            5         0       3   \n",
      "\n",
      "                                                Name     Sex   Age  SibSp  \\\n",
      "0                            Braund, Mr. Owen Harris    male  22.0      1   \n",
      "1  Cumings, Mrs. John Bradley (Florence Briggs Th...  female  38.0      1   \n",
      "2                             Heikkinen, Miss. Laina  female  26.0      0   \n",
      "3       Futrelle, Mrs. Jacques Heath (Lily May Peel)  female  35.0      1   \n",
      "4                           Allen, Mr. William Henry    male  35.0      0   \n",
      "\n",
      "   Parch            Ticket     Fare Cabin Embarked  \n",
      "0      0         A/5 21171   7.2500   NaN        S  \n",
      "1      0          PC 17599  71.2833   C85        C  \n",
      "2      0  STON/O2. 3101282   7.9250   NaN        S  \n",
      "3      0            113803  53.1000  C123        S  \n",
      "4      0            373450   8.0500   NaN        S  \n",
      "\n",
      "Informações sobre os dados:\n",
      "<class 'pandas.core.frame.DataFrame'>\n",
      "RangeIndex: 891 entries, 0 to 890\n",
      "Data columns (total 12 columns):\n",
      " #   Column       Non-Null Count  Dtype  \n",
      "---  ------       --------------  -----  \n",
      " 0   PassengerId  891 non-null    int64  \n",
      " 1   Survived     891 non-null    int64  \n",
      " 2   Pclass       891 non-null    int64  \n",
      " 3   Name         891 non-null    object \n",
      " 4   Sex          891 non-null    object \n",
      " 5   Age          714 non-null    float64\n",
      " 6   SibSp        891 non-null    int64  \n",
      " 7   Parch        891 non-null    int64  \n",
      " 8   Ticket       891 non-null    object \n",
      " 9   Fare         891 non-null    float64\n",
      " 10  Cabin        204 non-null    object \n",
      " 11  Embarked     889 non-null    object \n",
      "dtypes: float64(2), int64(5), object(5)\n",
      "memory usage: 83.7+ KB\n",
      "None\n"
     ]
    }
   ],
   "source": [
    "import pandas as pd\n",
    "\n",
    "# Carregando o dataset do Titanic de uma URL pública\n",
    "url = 'https://raw.githubusercontent.com/datasciencedojo/datasets/master/titanic.csv'\n",
    "df = pd.read_csv(url)\n",
    "\n",
    "print(\"Visualização inicial dos dados:\")\n",
    "print(df.head())\n",
    "print(\"\\nInformações sobre os dados:\")\n",
    "print(df.info())"
   ]
  },
  {
   "cell_type": "markdown",
   "id": "ab788239-7b72-4447-bfa2-bb5bbcb3ec03",
   "metadata": {},
   "source": [
    "---\n",
    "## 3. Lidando com Valores Ausentes (NaN)\n",
    "A primeira etapa da limpeza é identificar e tratar os valores ausentes (representados como `NaN`).  \n",
    "### 01_Identificando valores ausentes  \n",
    "O método `.isnull()` retorna um DataFrame de booleanos, e o `.sum()` nos dá a contagem de valores nulos por coluna."
   ]
  },
  {
   "cell_type": "code",
   "execution_count": 4,
   "id": "3a027ef9-239d-4282-8710-0464f8519b2a",
   "metadata": {},
   "outputs": [
    {
     "name": "stdout",
     "output_type": "stream",
     "text": [
      "Contagem de valores nulos:\n",
      "PassengerId      0\n",
      "Survived         0\n",
      "Pclass           0\n",
      "Name             0\n",
      "Sex              0\n",
      "Age            177\n",
      "SibSp            0\n",
      "Parch            0\n",
      "Ticket           0\n",
      "Fare             0\n",
      "Cabin          687\n",
      "Embarked         2\n",
      "dtype: int64\n"
     ]
    }
   ],
   "source": [
    "# Contando valores nulos em cada coluna\n",
    "print(\"Contagem de valores nulos:\")\n",
    "print(df.isnull().sum())"
   ]
  },
  {
   "cell_type": "markdown",
   "id": "8fcead03-3893-4c20-856a-163f41179e62",
   "metadata": {},
   "source": [
    "### 02_Estratégias de tratamento  \n",
    "Temos dados ausentes nas colunas `'Age' (idade)` e `'Cabin' (cabine)`.  \n",
    "- Para 'Cabin', a grande quantidade de valores nulos torna a coluna menos útil. Podemos considerar removê-la.  \n",
    "- Para 'Age', a quantidade de nulos é menor, e a idade é uma variável importante. Podemos preencher esses valores.\n",
    " \n",
    "### 03_Removendo colunas com muitos valores ausentes"
   ]
  },
  {
   "cell_type": "code",
   "execution_count": 5,
   "id": "a93a7074-d54f-40c4-aec1-d0c37964469e",
   "metadata": {},
   "outputs": [
    {
     "name": "stdout",
     "output_type": "stream",
     "text": [
      "\n",
      "DataFrame após remover a coluna 'Cabin':\n",
      "PassengerId      0\n",
      "Survived         0\n",
      "Pclass           0\n",
      "Name             0\n",
      "Sex              0\n",
      "Age            177\n",
      "SibSp            0\n",
      "Parch            0\n",
      "Ticket           0\n",
      "Fare             0\n",
      "Embarked         2\n",
      "dtype: int64\n"
     ]
    }
   ],
   "source": [
    "# Removendo a coluna 'Cabin'\n",
    "df_sem_cabin = df.drop('Cabin', axis=1)\n",
    "\n",
    "print(\"\\nDataFrame após remover a coluna 'Cabin':\")\n",
    "print(df_sem_cabin.isnull().sum())"
   ]
  },
  {
   "cell_type": "markdown",
   "id": "95281976-d5c7-4f28-a15e-336804e475a9",
   "metadata": {},
   "source": [
    "### 04_Preenchendo valores ausentes  \n",
    "Uma forma comum é preencher os valores ausentes com a média (`.mean()`) da coluna."
   ]
  },
  {
   "cell_type": "code",
   "execution_count": 6,
   "id": "9336630d-a2f7-4d90-9669-61a562cd0513",
   "metadata": {
    "scrolled": true
   },
   "outputs": [
    {
     "name": "stdout",
     "output_type": "stream",
     "text": [
      "\n",
      "Valores nulos após preencher a idade com a média:\n",
      "PassengerId    0\n",
      "Survived       0\n",
      "Pclass         0\n",
      "Name           0\n",
      "Sex            0\n",
      "Age            0\n",
      "SibSp          0\n",
      "Parch          0\n",
      "Ticket         0\n",
      "Fare           0\n",
      "Embarked       2\n",
      "dtype: int64\n"
     ]
    },
    {
     "name": "stderr",
     "output_type": "stream",
     "text": [
      "C:\\Users\\marlo\\AppData\\Local\\Temp\\ipykernel_30828\\642982329.py:3: FutureWarning: A value is trying to be set on a copy of a DataFrame or Series through chained assignment using an inplace method.\n",
      "The behavior will change in pandas 3.0. This inplace method will never work because the intermediate object on which we are setting values always behaves as a copy.\n",
      "\n",
      "For example, when doing 'df[col].method(value, inplace=True)', try using 'df.method({col: value}, inplace=True)' or df[col] = df[col].method(value) instead, to perform the operation inplace on the original object.\n",
      "\n",
      "\n",
      "  df_sem_cabin['Age'].fillna(media_idade, inplace=True)\n"
     ]
    }
   ],
   "source": [
    "# Preenchendo os valores nulos da coluna 'Age' com a média\n",
    "media_idade = df_sem_cabin['Age'].mean()\n",
    "df_sem_cabin['Age'].fillna(media_idade, inplace=True)\n",
    "\n",
    "print(\"\\nValores nulos após preencher a idade com a média:\")\n",
    "print(df_sem_cabin.isnull().sum())"
   ]
  },
  {
   "cell_type": "markdown",
   "id": "da7a4a0c-eddd-421a-b0c7-24e7499bda4a",
   "metadata": {},
   "source": [
    "---\n",
    "## 4. Lidando com Dados Duplicados\n",
    "Dados duplicados podem distorcer a análise. É fundamental identificá-los e removê-los.  \n",
    "### 01_Verificando e removendo duplicatas"
   ]
  },
  {
   "cell_type": "code",
   "execution_count": 7,
   "id": "f06bb7b9-4ed5-400b-8989-09a8b6a2bffc",
   "metadata": {},
   "outputs": [
    {
     "name": "stdout",
     "output_type": "stream",
     "text": [
      "Linhas duplicadas antes da remoção: 0\n",
      "Linhas duplicadas após a remoção: 0\n"
     ]
    }
   ],
   "source": [
    "# Verificando a quantidade de linhas duplicadas\n",
    "print(f\"Linhas duplicadas antes da remoção: {df_sem_cabin.duplicated().sum()}\")\n",
    "\n",
    "# Removendo linhas duplicadas (manter a primeira ocorrência)\n",
    "df_limpo = df_sem_cabin.drop_duplicates()\n",
    "\n",
    "print(f\"Linhas duplicadas após a remoção: {df_limpo.duplicated().sum()}\")"
   ]
  },
  {
   "cell_type": "markdown",
   "id": "9a454d84-92c9-4e50-8c80-12579dec7676",
   "metadata": {},
   "source": [
    "---\n",
    "## 5. Transformação de Dados\n",
    "A transformação de dados envolve a criação de novas colunas ou a conversão de tipos para enriquecer a análise.  \n",
    "### 01_Convertendo tipos de dados\n",
    "A coluna 'Survived' está como int64. Podemos convertê-la para um tipo categórico."
   ]
  },
  {
   "cell_type": "code",
   "execution_count": 8,
   "id": "c89c495a-b590-499b-8460-a5c221064f9b",
   "metadata": {},
   "outputs": [
    {
     "name": "stdout",
     "output_type": "stream",
     "text": [
      "\n",
      "Novos tipos de dados:\n",
      "<class 'pandas.core.frame.DataFrame'>\n",
      "RangeIndex: 891 entries, 0 to 890\n",
      "Data columns (total 11 columns):\n",
      " #   Column       Non-Null Count  Dtype   \n",
      "---  ------       --------------  -----   \n",
      " 0   PassengerId  891 non-null    int64   \n",
      " 1   Survived     891 non-null    category\n",
      " 2   Pclass       891 non-null    int64   \n",
      " 3   Name         891 non-null    object  \n",
      " 4   Sex          891 non-null    object  \n",
      " 5   Age          891 non-null    float64 \n",
      " 6   SibSp        891 non-null    int64   \n",
      " 7   Parch        891 non-null    int64   \n",
      " 8   Ticket       891 non-null    object  \n",
      " 9   Fare         891 non-null    float64 \n",
      " 10  Embarked     889 non-null    object  \n",
      "dtypes: category(1), float64(2), int64(4), object(4)\n",
      "memory usage: 70.7+ KB\n",
      "None\n"
     ]
    }
   ],
   "source": [
    "# Convertendo a coluna 'Survived' para um tipo categórico\n",
    "df_limpo['Survived'] = df_limpo['Survived'].astype('category')\n",
    "\n",
    "print(\"\\nNovos tipos de dados:\")\n",
    "print(df_limpo.info())"
   ]
  },
  {
   "cell_type": "markdown",
   "id": "f393bae6-6a5d-4996-847f-bf819010d161",
   "metadata": {},
   "source": [
    "### 02_Criando novas colunas  \n",
    "Vamos criar uma coluna `Is_Alone` (está sozinho) baseada nas colunas `SibSp` (irmãos/cônjuges) e `Parch` (pais/crianças)."
   ]
  },
  {
   "cell_type": "code",
   "execution_count": 9,
   "id": "e3eadaa9-5350-4086-abad-c464f7a7980f",
   "metadata": {},
   "outputs": [
    {
     "name": "stdout",
     "output_type": "stream",
     "text": [
      "\n",
      "Primeiras linhas com as novas colunas:\n",
      "   PassengerId Survived  Pclass  \\\n",
      "0            1        0       3   \n",
      "1            2        1       1   \n",
      "2            3        1       3   \n",
      "3            4        1       1   \n",
      "4            5        0       3   \n",
      "\n",
      "                                                Name     Sex   Age  SibSp  \\\n",
      "0                            Braund, Mr. Owen Harris    male  22.0      1   \n",
      "1  Cumings, Mrs. John Bradley (Florence Briggs Th...  female  38.0      1   \n",
      "2                             Heikkinen, Miss. Laina  female  26.0      0   \n",
      "3       Futrelle, Mrs. Jacques Heath (Lily May Peel)  female  35.0      1   \n",
      "4                           Allen, Mr. William Henry    male  35.0      0   \n",
      "\n",
      "   Parch            Ticket     Fare Embarked  FamilySize  Is_Alone  \n",
      "0      0         A/5 21171   7.2500        S           2         0  \n",
      "1      0          PC 17599  71.2833        C           2         0  \n",
      "2      0  STON/O2. 3101282   7.9250        S           1         1  \n",
      "3      0            113803  53.1000        S           2         0  \n",
      "4      0            373450   8.0500        S           1         1  \n"
     ]
    }
   ],
   "source": [
    "# Criando a coluna 'FamilySize' (tamanho da família)\n",
    "df_limpo['FamilySize'] = df_limpo['SibSp'] + df_limpo['Parch'] + 1\n",
    "\n",
    "# Criando a coluna 'Is_Alone' (está sozinho)\n",
    "df_limpo['Is_Alone'] = (df_limpo['FamilySize'] == 1).astype(int)\n",
    "\n",
    "print(\"\\nPrimeiras linhas com as novas colunas:\")\n",
    "print(df_limpo.head())"
   ]
  },
  {
   "cell_type": "markdown",
   "id": "e04e5bf7-a36a-482e-a565-54bf0f731788",
   "metadata": {},
   "source": [
    "---\n",
    "## 🏁 Conclusão\n",
    "Neste notebook, vimos as principais etapas de **limpeza** e **transformação de dados** com o **Pandas**.  \n",
    "- A primeira etapa é a identificação e o tratamento de dados ausentes e duplicados, garantindo a qualidade da sua base.  \n",
    "- A conversão de tipos de dados e a criação de novas features são cruciais para preparar os dados para análises mais profundas e para a modelagem.  \n"
   ]
  }
 ],
 "metadata": {
  "kernelspec": {
   "display_name": "Python [conda env:base] *",
   "language": "python",
   "name": "conda-base-py"
  },
  "language_info": {
   "codemirror_mode": {
    "name": "ipython",
    "version": 3
   },
   "file_extension": ".py",
   "mimetype": "text/x-python",
   "name": "python",
   "nbconvert_exporter": "python",
   "pygments_lexer": "ipython3",
   "version": "3.12.7"
  }
 },
 "nbformat": 4,
 "nbformat_minor": 5
}
