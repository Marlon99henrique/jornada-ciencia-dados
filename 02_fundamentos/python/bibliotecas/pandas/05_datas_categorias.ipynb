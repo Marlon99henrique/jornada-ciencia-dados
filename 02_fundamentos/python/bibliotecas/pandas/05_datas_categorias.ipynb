{
 "cells": [
  {
   "cell_type": "markdown",
   "id": "7a93824f-be5d-4937-810a-8e146977aeef",
   "metadata": {},
   "source": [
    "# Análise de Datas e Dados Categóricos 🗓️🏷️\n",
    "\n",
    "## 1. Introdução\n",
    "\n",
    "Neste notebook, o foco é demonstrar como manipular e extrair insights de dois tipos de dados muito comuns em análise de dados: **datas** e **categorias**. A correta preparação desses dados é fundamental para identificar tendências temporais, padrões sazonais e distribuições de frequência, que são a base de muitos projetos de ciência de dados.\n",
    "\n",
    "---\n",
    "## 2. Importação de Bibliotecas\n",
    "\n",
    "Importamos as bibliotecas essenciais para a manipulação e visualização de dados.\n",
    "\n"
   ]
  },
  {
   "cell_type": "code",
   "execution_count": 1,
   "id": "7e6d0d2a-f360-4518-adfd-08818211a8ad",
   "metadata": {},
   "outputs": [],
   "source": [
    "import pandas as pd\n",
    "import numpy as np\n",
    "import matplotlib.pyplot as plt\n",
    "import seaborn as sns\n",
    "\n",
    "# Configurações para melhorar a visualização\n",
    "sns.set_style('whitegrid')\n",
    "plt.style.use('seaborn-v0_8-whitegrid')\n",
    "%matplotlib inline"
   ]
  },
  {
   "cell_type": "markdown",
   "id": "87144825-571d-4c33-bd3c-dea26f771d46",
   "metadata": {},
   "source": [
    "---\n",
    "## 3. Criação e Visualização Inicial dos Dados  \n",
    "Para este projeto, vamos simular um conjunto de dados de pedidos de clientes, que inclui informações de data, produto e status."
   ]
  },
  {
   "cell_type": "code",
   "execution_count": 2,
   "id": "f4509c94-3b14-4566-8e1e-ba800e50a7c9",
   "metadata": {},
   "outputs": [
    {
     "name": "stdout",
     "output_type": "stream",
     "text": [
      "Primeiras 5 linhas do DataFrame:\n"
     ]
    },
    {
     "data": {
      "text/html": [
       "<div>\n",
       "<style scoped>\n",
       "    .dataframe tbody tr th:only-of-type {\n",
       "        vertical-align: middle;\n",
       "    }\n",
       "\n",
       "    .dataframe tbody tr th {\n",
       "        vertical-align: top;\n",
       "    }\n",
       "\n",
       "    .dataframe thead th {\n",
       "        text-align: right;\n",
       "    }\n",
       "</style>\n",
       "<table border=\"1\" class=\"dataframe\">\n",
       "  <thead>\n",
       "    <tr style=\"text-align: right;\">\n",
       "      <th></th>\n",
       "      <th>ID_Pedido</th>\n",
       "      <th>Data_Pedido</th>\n",
       "      <th>Categoria_Produto</th>\n",
       "      <th>Status_Entrega</th>\n",
       "      <th>Receita</th>\n",
       "    </tr>\n",
       "  </thead>\n",
       "  <tbody>\n",
       "    <tr>\n",
       "      <th>0</th>\n",
       "      <td>1</td>\n",
       "      <td>2024-04-14</td>\n",
       "      <td>Eletrônicos</td>\n",
       "      <td>Atrasado</td>\n",
       "      <td>266.13</td>\n",
       "    </tr>\n",
       "    <tr>\n",
       "      <th>1</th>\n",
       "      <td>2</td>\n",
       "      <td>2024-03-23</td>\n",
       "      <td>Vestuário</td>\n",
       "      <td>Atrasado</td>\n",
       "      <td>405.19</td>\n",
       "    </tr>\n",
       "    <tr>\n",
       "      <th>2</th>\n",
       "      <td>3</td>\n",
       "      <td>2024-04-25</td>\n",
       "      <td>Vestuário</td>\n",
       "      <td>Entregue</td>\n",
       "      <td>229.68</td>\n",
       "    </tr>\n",
       "    <tr>\n",
       "      <th>3</th>\n",
       "      <td>4</td>\n",
       "      <td>2024-04-14</td>\n",
       "      <td>Livros</td>\n",
       "      <td>Em Trânsito</td>\n",
       "      <td>261.23</td>\n",
       "    </tr>\n",
       "    <tr>\n",
       "      <th>4</th>\n",
       "      <td>5</td>\n",
       "      <td>2024-04-21</td>\n",
       "      <td>Esportes</td>\n",
       "      <td>Entregue</td>\n",
       "      <td>469.60</td>\n",
       "    </tr>\n",
       "  </tbody>\n",
       "</table>\n",
       "</div>"
      ],
      "text/plain": [
       "   ID_Pedido Data_Pedido Categoria_Produto Status_Entrega  Receita\n",
       "0          1  2024-04-14       Eletrônicos       Atrasado   266.13\n",
       "1          2  2024-03-23         Vestuário       Atrasado   405.19\n",
       "2          3  2024-04-25         Vestuário       Entregue   229.68\n",
       "3          4  2024-04-14            Livros    Em Trânsito   261.23\n",
       "4          5  2024-04-21          Esportes       Entregue   469.60"
      ]
     },
     "metadata": {},
     "output_type": "display_data"
    },
    {
     "name": "stdout",
     "output_type": "stream",
     "text": [
      "\n",
      "Tipos de dados originais:\n",
      "<class 'pandas.core.frame.DataFrame'>\n",
      "RangeIndex: 20 entries, 0 to 19\n",
      "Data columns (total 5 columns):\n",
      " #   Column             Non-Null Count  Dtype         \n",
      "---  ------             --------------  -----         \n",
      " 0   ID_Pedido          20 non-null     int64         \n",
      " 1   Data_Pedido        20 non-null     datetime64[ns]\n",
      " 2   Categoria_Produto  20 non-null     object        \n",
      " 3   Status_Entrega     20 non-null     object        \n",
      " 4   Receita            20 non-null     float64       \n",
      "dtypes: datetime64[ns](1), float64(1), int64(1), object(2)\n",
      "memory usage: 932.0+ bytes\n"
     ]
    }
   ],
   "source": [
    "# Criando um DataFrame de exemplo\n",
    "data = {\n",
    "    'ID_Pedido': range(1, 21),\n",
    "    'Data_Pedido': pd.to_datetime(np.random.choice(pd.date_range('2024-01-01', '2024-06-30'), 20)),\n",
    "    'Categoria_Produto': np.random.choice(['Eletrônicos', 'Vestuário', 'Esportes', 'Alimentos', 'Livros'], 20),\n",
    "    'Status_Entrega': np.random.choice(['Entregue', 'Em Trânsito', 'Atrasado'], 20),\n",
    "    'Receita': np.random.uniform(50, 500, 20).round(2)\n",
    "}\n",
    "\n",
    "df_pedidos = pd.DataFrame(data)\n",
    "\n",
    "print(\"Primeiras 5 linhas do DataFrame:\")\n",
    "display(df_pedidos.head())\n",
    "\n",
    "print(\"\\nTipos de dados originais:\")\n",
    "df_pedidos.info()"
   ]
  },
  {
   "cell_type": "markdown",
   "id": "d390c3c4-0e8f-4013-8038-d433577a7447",
   "metadata": {},
   "source": [
    "---\n",
    "## 4. Trabalhando com Datas (Time Series) 🗓️\n",
    "O pandas tem ferramentas poderosas para trabalhar com datas. Vamos converter a coluna **'Data_Pedido'** para o tipo `datetime` e extrair informações úteis."
   ]
  },
  {
   "cell_type": "code",
   "execution_count": 3,
   "id": "c2646e58-f98c-4efa-83a1-860c0bc2a0af",
   "metadata": {},
   "outputs": [
    {
     "name": "stdout",
     "output_type": "stream",
     "text": [
      "DataFrame com novas colunas de data:\n"
     ]
    },
    {
     "data": {
      "text/html": [
       "<div>\n",
       "<style scoped>\n",
       "    .dataframe tbody tr th:only-of-type {\n",
       "        vertical-align: middle;\n",
       "    }\n",
       "\n",
       "    .dataframe tbody tr th {\n",
       "        vertical-align: top;\n",
       "    }\n",
       "\n",
       "    .dataframe thead th {\n",
       "        text-align: right;\n",
       "    }\n",
       "</style>\n",
       "<table border=\"1\" class=\"dataframe\">\n",
       "  <thead>\n",
       "    <tr style=\"text-align: right;\">\n",
       "      <th></th>\n",
       "      <th>ID_Pedido</th>\n",
       "      <th>Data_Pedido</th>\n",
       "      <th>Categoria_Produto</th>\n",
       "      <th>Status_Entrega</th>\n",
       "      <th>Receita</th>\n",
       "      <th>Ano</th>\n",
       "      <th>Mes</th>\n",
       "      <th>Dia_da_Semana</th>\n",
       "    </tr>\n",
       "  </thead>\n",
       "  <tbody>\n",
       "    <tr>\n",
       "      <th>0</th>\n",
       "      <td>1</td>\n",
       "      <td>2024-04-14</td>\n",
       "      <td>Eletrônicos</td>\n",
       "      <td>Atrasado</td>\n",
       "      <td>266.13</td>\n",
       "      <td>2024</td>\n",
       "      <td>4</td>\n",
       "      <td>Sunday</td>\n",
       "    </tr>\n",
       "    <tr>\n",
       "      <th>1</th>\n",
       "      <td>2</td>\n",
       "      <td>2024-03-23</td>\n",
       "      <td>Vestuário</td>\n",
       "      <td>Atrasado</td>\n",
       "      <td>405.19</td>\n",
       "      <td>2024</td>\n",
       "      <td>3</td>\n",
       "      <td>Saturday</td>\n",
       "    </tr>\n",
       "    <tr>\n",
       "      <th>2</th>\n",
       "      <td>3</td>\n",
       "      <td>2024-04-25</td>\n",
       "      <td>Vestuário</td>\n",
       "      <td>Entregue</td>\n",
       "      <td>229.68</td>\n",
       "      <td>2024</td>\n",
       "      <td>4</td>\n",
       "      <td>Thursday</td>\n",
       "    </tr>\n",
       "    <tr>\n",
       "      <th>3</th>\n",
       "      <td>4</td>\n",
       "      <td>2024-04-14</td>\n",
       "      <td>Livros</td>\n",
       "      <td>Em Trânsito</td>\n",
       "      <td>261.23</td>\n",
       "      <td>2024</td>\n",
       "      <td>4</td>\n",
       "      <td>Sunday</td>\n",
       "    </tr>\n",
       "    <tr>\n",
       "      <th>4</th>\n",
       "      <td>5</td>\n",
       "      <td>2024-04-21</td>\n",
       "      <td>Esportes</td>\n",
       "      <td>Entregue</td>\n",
       "      <td>469.60</td>\n",
       "      <td>2024</td>\n",
       "      <td>4</td>\n",
       "      <td>Sunday</td>\n",
       "    </tr>\n",
       "  </tbody>\n",
       "</table>\n",
       "</div>"
      ],
      "text/plain": [
       "   ID_Pedido Data_Pedido Categoria_Produto Status_Entrega  Receita   Ano  Mes  \\\n",
       "0          1  2024-04-14       Eletrônicos       Atrasado   266.13  2024    4   \n",
       "1          2  2024-03-23         Vestuário       Atrasado   405.19  2024    3   \n",
       "2          3  2024-04-25         Vestuário       Entregue   229.68  2024    4   \n",
       "3          4  2024-04-14            Livros    Em Trânsito   261.23  2024    4   \n",
       "4          5  2024-04-21          Esportes       Entregue   469.60  2024    4   \n",
       "\n",
       "  Dia_da_Semana  \n",
       "0        Sunday  \n",
       "1      Saturday  \n",
       "2      Thursday  \n",
       "3        Sunday  \n",
       "4        Sunday  "
      ]
     },
     "metadata": {},
     "output_type": "display_data"
    },
    {
     "name": "stdout",
     "output_type": "stream",
     "text": [
      "\n",
      "Receita total por mês:\n",
      "Mes\n",
      "1     661.55\n",
      "2     394.42\n",
      "3     625.36\n",
      "4    1421.30\n",
      "5    1429.65\n",
      "6     916.82\n",
      "Name: Receita, dtype: float64\n"
     ]
    },
    {
     "data": {
      "image/png": "[encoded data removed]",
      "text/plain": [
       "<Figure size 1000x600 with 1 Axes>"
      ]
     },
     "metadata": {},
     "output_type": "display_data"
    }
   ],
   "source": [
    "# A coluna 'Data_Pedido' já foi criada como datetime, mas em um cenário real, você faria a conversão assim:\n",
    "# df_pedidos['Data_Pedido'] = pd.to_datetime(df_pedidos['Data_Pedido'])\n",
    "\n",
    "# Extraindo componentes de data (Feature Engineering)\n",
    "df_pedidos['Ano'] = df_pedidos['Data_Pedido'].dt.year\n",
    "df_pedidos['Mes'] = df_pedidos['Data_Pedido'].dt.month\n",
    "df_pedidos['Dia_da_Semana'] = df_pedidos['Data_Pedido'].dt.day_name()\n",
    "\n",
    "print(\"DataFrame com novas colunas de data:\")\n",
    "display(df_pedidos.head())\n",
    "\n",
    "# Análise: Total de pedidos por mês\n",
    "pedidos_por_mes = df_pedidos.groupby('Mes')['Receita'].sum()\n",
    "print(\"\\nReceita total por mês:\")\n",
    "print(pedidos_por_mes)\n",
    "\n",
    "# Visualização da Receita Mensal\n",
    "plt.figure(figsize=(10, 6))\n",
    "sns.lineplot(x=pedidos_por_mes.index, y=pedidos_por_mes.values, marker='o')\n",
    "plt.title('Receita Total por Mês')\n",
    "plt.xlabel('Mês')\n",
    "plt.ylabel('Receita ($)')\n",
    "plt.xticks(ticks=range(1, 7), labels=['Jan', 'Fev', 'Mar', 'Abr', 'Mai', 'Jun'])\n",
    "plt.show()"
   ]
  },
  {
   "cell_type": "markdown",
   "id": "088999eb-4138-4fa5-a7bf-863d7a119fe9",
   "metadata": {},
   "source": [
    "---\n",
    "## 5. Trabalhando com Dados Categóricos 🏷️  \n",
    "Dados categóricos, como **'Categoria_Produto'**, podem ser convertidos para um tipo de dado específico no pandas para otimizar memória e permitir análises específicas."
   ]
  },
  {
   "cell_type": "code",
   "execution_count": 4,
   "id": "33a175d8-ae3b-4eb8-a8ea-ae6015f7bf25",
   "metadata": {},
   "outputs": [
    {
     "name": "stdout",
     "output_type": "stream",
     "text": [
      "Tipos de dados após a conversão:\n",
      "<class 'pandas.core.frame.DataFrame'>\n",
      "RangeIndex: 20 entries, 0 to 19\n",
      "Data columns (total 8 columns):\n",
      " #   Column             Non-Null Count  Dtype         \n",
      "---  ------             --------------  -----         \n",
      " 0   ID_Pedido          20 non-null     int64         \n",
      " 1   Data_Pedido        20 non-null     datetime64[ns]\n",
      " 2   Categoria_Produto  20 non-null     category      \n",
      " 3   Status_Entrega     20 non-null     category      \n",
      " 4   Receita            20 non-null     float64       \n",
      " 5   Ano                20 non-null     int32         \n",
      " 6   Mes                20 non-null     int32         \n",
      " 7   Dia_da_Semana      20 non-null     object        \n",
      "dtypes: category(2), datetime64[ns](1), float64(1), int32(2), int64(1), object(1)\n",
      "memory usage: 1.3+ KB\n",
      "\n",
      "Contagem de pedidos por categoria:\n",
      "Categoria_Produto\n",
      "Vestuário      6\n",
      "Esportes       4\n",
      "Livros         4\n",
      "Alimentos      3\n",
      "Eletrônicos    3\n",
      "Name: count, dtype: int64\n"
     ]
    },
    {
     "name": "stderr",
     "output_type": "stream",
     "text": [
      "C:\\Users\\marlo\\AppData\\Local\\Temp\\ipykernel_12016\\860919663.py:15: FutureWarning: \n",
      "\n",
      "Passing `palette` without assigning `hue` is deprecated and will be removed in v0.14.0. Assign the `x` variable to `hue` and set `legend=False` for the same effect.\n",
      "\n",
      "  sns.barplot(x=contagem_categorias.index, y=contagem_categorias.values, palette='coolwarm')\n"
     ]
    },
    {
     "data": {
      "image/png": "[encoded data removed]",
      "text/plain": [
       "<Figure size 1000x600 with 1 Axes>"
      ]
     },
     "metadata": {},
     "output_type": "display_data"
    },
    {
     "name": "stdout",
     "output_type": "stream",
     "text": [
      "\n",
      "Contagem de pedidos por status de entrega:\n",
      "Status_Entrega\n",
      "Em Trânsito    8\n",
      "Atrasado       6\n",
      "Entregue       6\n",
      "Name: count, dtype: int64\n"
     ]
    }
   ],
   "source": [
    "# Convertendo a coluna 'Categoria_Produto' para o tipo 'category'\n",
    "df_pedidos['Categoria_Produto'] = df_pedidos['Categoria_Produto'].astype('category')\n",
    "df_pedidos['Status_Entrega'] = df_pedidos['Status_Entrega'].astype('category')\n",
    "\n",
    "print(\"Tipos de dados após a conversão:\")\n",
    "df_pedidos.info()\n",
    "\n",
    "# Análise: Contagem de pedidos por categoria de produto\n",
    "contagem_categorias = df_pedidos['Categoria_Produto'].value_counts()\n",
    "print(\"\\nContagem de pedidos por categoria:\")\n",
    "print(contagem_categorias)\n",
    "\n",
    "# Visualização da contagem de pedidos por categoria\n",
    "plt.figure(figsize=(10, 6))\n",
    "sns.barplot(x=contagem_categorias.index, y=contagem_categorias.values, palette='coolwarm')\n",
    "plt.title('Número de Pedidos por Categoria de Produto')\n",
    "plt.xlabel('Categoria do Produto')\n",
    "plt.ylabel('Número de Pedidos')\n",
    "plt.xticks(rotation=45, ha='right')\n",
    "plt.tight_layout()\n",
    "plt.show()\n",
    "\n",
    "# Análise de Status de Entrega\n",
    "contagem_status = df_pedidos['Status_Entrega'].value_counts()\n",
    "print(\"\\nContagem de pedidos por status de entrega:\")\n",
    "print(contagem_status)"
   ]
  },
  {
   "cell_type": "markdown",
   "id": "a0545a15-551f-4c9d-b66e-1587c14732ec",
   "metadata": {},
   "source": [
    "---\n",
    "## 🏁 6. Conclusão\n",
    "Este notebook demonstrou como a preparação de datas e dados categóricos é um passo essencial na análise de dados. \n",
    "- A conversão de colunas de texto para o tipo `datetime` permite **extrair informações temporais** e **visualizar tendências**.  \n",
    "- A conversão para o tipo `category` otimiza o **uso de memória** e facilita a **análise de frequência** e **visualização de variáveis discretas**."
   ]
  }
 ],
 "metadata": {
  "kernelspec": {
   "display_name": "Python [conda env:base] *",
   "language": "python",
   "name": "conda-base-py"
  },
  "language_info": {
   "codemirror_mode": {
    "name": "ipython",
    "version": 3
   },
   "file_extension": ".py",
   "mimetype": "text/x-python",
   "name": "python",
   "nbconvert_exporter": "python",
   "pygments_lexer": "ipython3",
   "version": "3.12.7"
  }
 },
 "nbformat": 4,
 "nbformat_minor": 5
}
