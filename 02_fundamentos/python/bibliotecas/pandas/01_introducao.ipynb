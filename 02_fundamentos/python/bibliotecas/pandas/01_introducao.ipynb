{
 "cells": [
  {
   "cell_type": "markdown",
   "id": "1fc82417-2883-4412-ae22-240a3a56694f",
   "metadata": {},
   "source": [
    "# 🐼 Introdução ao Pandas\n",
    "## 1. O que é o Pandas?\n",
    "Pandas é uma biblioteca de código aberto do Python, otimizada para a manipulação e análise de dados. Ela é a principal ferramenta para trabalhar com dados estruturados, como planilhas e bancos de dados, oferecendo duas estruturas de dados essenciais:  \n",
    "- `Series`: Um array unidimensional que armazena dados de qualquer tipo.  \n",
    "- `DataFrame`: A estrutura mais utilizada, que representa uma tabela bidimensional com linhas e colunas, similar a uma planilha do Excel ou a uma tabela de um banco de dados.  \n",
    "Vamos começar importando a biblioteca. É uma convenção popular usar o alias `pd`."
   ]
  },
  {
   "cell_type": "code",
   "execution_count": 1,
   "id": "26daa56f-fcd5-479c-8439-7b22f03fc138",
   "metadata": {},
   "outputs": [],
   "source": [
    "import pandas as pd"
   ]
  },
  {
   "cell_type": "markdown",
   "id": "ac30fcab-60a5-46ee-bca3-25048e8abbe8",
   "metadata": {},
   "source": [
    "---\n",
    "## 2. A Estrutura Series\n",
    "Um objeto `Series` é uma coluna de um DataFrame. Você pode criar uma Series a partir de uma lista ou de um dicionário.  \n",
    "Criando a partir de uma lista"
   ]
  },
  {
   "cell_type": "code",
   "execution_count": 2,
   "id": "df2f6c7c-1b6a-4034-bb1d-727e35630eec",
   "metadata": {},
   "outputs": [
    {
     "name": "stdout",
     "output_type": "stream",
     "text": [
      "0    10\n",
      "1    20\n",
      "2    30\n",
      "3    40\n",
      "4    50\n",
      "dtype: int64\n"
     ]
    }
   ],
   "source": [
    "# Criando uma Series a partir de uma lista de dados\n",
    "dados_series = [10, 20, 30, 40, 50]\n",
    "minha_series = pd.Series(dados_series)\n",
    "\n",
    "print(minha_series)"
   ]
  },
  {
   "cell_type": "markdown",
   "id": "5fa3426a-a8bd-490f-a0e6-87b781425390",
   "metadata": {},
   "source": [
    "**Criando a partir de um dicionário**  \n",
    "Ao criar a partir de um `dicionário`, as **chaves se tornam o índice da Series**."
   ]
  },
  {
   "cell_type": "code",
   "execution_count": 3,
   "id": "a1e32997-fa8b-4105-9a85-0cef701b3e75",
   "metadata": {},
   "outputs": [
    {
     "name": "stdout",
     "output_type": "stream",
     "text": [
      "A    100\n",
      "B    200\n",
      "C    300\n",
      "dtype: int64\n"
     ]
    }
   ],
   "source": [
    "# Criando uma Series a partir de um dicionário\n",
    "dados_dicionario = {\n",
    "    'A': 100,\n",
    "    'B': 200,\n",
    "    'C': 300\n",
    "}\n",
    "minha_series_dic = pd.Series(dados_dicionario)\n",
    "\n",
    "print(minha_series_dic)"
   ]
  },
  {
   "cell_type": "markdown",
   "id": "05b868ba-9ce6-4e2a-b174-002fd09325fc",
   "metadata": {},
   "source": [
    "---\n",
    "## 3. A Estrutura DataFrame\n",
    "  O `DataFrame` é a estrutura mais poderosa do Pandas. Ele é uma coleção de objetos Series, onde cada Series representa uma coluna.  \n",
    "**Criando um DataFrame a partir de um dicionário**  \n",
    "A forma mais comum de criar um `DataFrame` é a partir de um `dicionário`, onde **as chaves são os nomes das colunas** e os **valores são os dados**."
   ]
  },
  {
   "cell_type": "code",
   "execution_count": 4,
   "id": "01ce3f1b-0340-45bf-bc2f-641fba42f503",
   "metadata": {},
   "outputs": [
    {
     "name": "stdout",
     "output_type": "stream",
     "text": [
      "    Nome  Idade          Cidade\n",
      "0   João     25       São Paulo\n",
      "1  Maria     30  Rio de Janeiro\n",
      "2  Pedro     35  Belo Horizonte\n",
      "3    Ana     28       São Paulo\n"
     ]
    }
   ],
   "source": [
    "# Criando um DataFrame a partir de um dicionário\n",
    "dados_dataframe = {\n",
    "    'Nome': ['João', 'Maria', 'Pedro', 'Ana'],\n",
    "    'Idade': [25, 30, 35, 28],\n",
    "    'Cidade': ['São Paulo', 'Rio de Janeiro', 'Belo Horizonte', 'São Paulo']\n",
    "}\n",
    "\n",
    "df = pd.DataFrame(dados_dataframe)\n",
    "\n",
    "# Mostrando o DataFrame\n",
    "print(df)"
   ]
  },
  {
   "cell_type": "markdown",
   "id": "23776e9d-25aa-4ea4-9212-795065cd76c6",
   "metadata": {},
   "source": [
    "---\n",
    "## 4. Operações Básicas\n",
    "Com um DataFrame criado, podemos realizar operações de seleção, visualização e resumo.  \n",
    "**Visualizando as primeiras linhas**  \n",
    "Use o método `.head()` para ver as primeiras **5 linhas do DataFrame**."
   ]
  },
  {
   "cell_type": "code",
   "execution_count": 5,
   "id": "890f3d08-cd94-4683-af7f-5446c762edff",
   "metadata": {},
   "outputs": [
    {
     "name": "stdout",
     "output_type": "stream",
     "text": [
      "    Nome  Idade          Cidade\n",
      "0   João     25       São Paulo\n",
      "1  Maria     30  Rio de Janeiro\n",
      "2  Pedro     35  Belo Horizonte\n",
      "3    Ana     28       São Paulo\n"
     ]
    }
   ],
   "source": [
    "# Mostra as 5 primeiras linhas do DataFrame\n",
    "print(df.head())"
   ]
  },
  {
   "cell_type": "markdown",
   "id": "4037b08c-df3d-4f21-b349-913252a14ed5",
   "metadata": {},
   "source": [
    "**Resumo das informações do DataFrame**  \n",
    "O método `.info()` fornece um resumo conciso, incluindo os tipos de dados e a contagem de valores não nulos."
   ]
  },
  {
   "cell_type": "code",
   "execution_count": 6,
   "id": "21c3c45f-662a-4aea-b70b-47cbfacded2f",
   "metadata": {},
   "outputs": [
    {
     "name": "stdout",
     "output_type": "stream",
     "text": [
      "<class 'pandas.core.frame.DataFrame'>\n",
      "RangeIndex: 4 entries, 0 to 3\n",
      "Data columns (total 3 columns):\n",
      " #   Column  Non-Null Count  Dtype \n",
      "---  ------  --------------  ----- \n",
      " 0   Nome    4 non-null      object\n",
      " 1   Idade   4 non-null      int64 \n",
      " 2   Cidade  4 non-null      object\n",
      "dtypes: int64(1), object(2)\n",
      "memory usage: 228.0+ bytes\n",
      "None\n"
     ]
    }
   ],
   "source": [
    "# Mostra um resumo do DataFrame\n",
    "print(df.info())"
   ]
  },
  {
   "cell_type": "markdown",
   "id": "beed5a95-1ff6-4559-9ef2-2448fb27635a",
   "metadata": {},
   "source": [
    "**Selecionando colunas**  \n",
    "Você pode selecionar uma ou mais colunas de forma simples."
   ]
  },
  {
   "cell_type": "code",
   "execution_count": 7,
   "id": "b21ee22a-b26f-4bdf-96c9-1becacb0613d",
   "metadata": {},
   "outputs": [
    {
     "name": "stdout",
     "output_type": "stream",
     "text": [
      "Coluna 'Cidade':\n",
      "0         São Paulo\n",
      "1    Rio de Janeiro\n",
      "2    Belo Horizonte\n",
      "3         São Paulo\n",
      "Name: Cidade, dtype: object\n",
      "\n",
      "Colunas 'Nome' e 'Idade':\n",
      "    Nome  Idade\n",
      "0   João     25\n",
      "1  Maria     30\n",
      "2  Pedro     35\n",
      "3    Ana     28\n"
     ]
    }
   ],
   "source": [
    "# Selecionando uma única coluna\n",
    "cidades = df['Cidade']\n",
    "print(\"Coluna 'Cidade':\")\n",
    "print(cidades)\n",
    "\n",
    "# Selecionando múltiplas colunas\n",
    "nomes_e_idades = df[['Nome', 'Idade']]\n",
    "print(\"\\nColunas 'Nome' e 'Idade':\")\n",
    "print(nomes_e_idades)"
   ]
  },
  {
   "cell_type": "markdown",
   "id": "cfc488a8-38ef-47b3-8a3a-95104a4a900d",
   "metadata": {},
   "source": [
    "**Selecionando linhas**  \n",
    "O Pandas oferece duas formas principais de selecionar linhas:  \n",
    "- `.loc[]`: Seleciona com base no nome ou rótulo do índice.  \n",
    "- `.iloc[]`: Seleciona com base na posição (índice numérico)."
   ]
  },
  {
   "cell_type": "code",
   "execution_count": 8,
   "id": "d8ba1dda-a944-4437-861d-c938e8249891",
   "metadata": {},
   "outputs": [
    {
     "name": "stdout",
     "output_type": "stream",
     "text": [
      "Primeira linha do DataFrame:\n",
      "Nome           João\n",
      "Idade            25\n",
      "Cidade    São Paulo\n",
      "Name: 0, dtype: object\n",
      "\n",
      "Terceira linha do DataFrame:\n",
      "Nome               Pedro\n",
      "Idade                 35\n",
      "Cidade    Belo Horizonte\n",
      "Name: 2, dtype: object\n"
     ]
    }
   ],
   "source": [
    "# Selecionando a primeira linha usando .iloc[] (índice 0)\n",
    "primeira_linha = df.iloc[0]\n",
    "print(\"Primeira linha do DataFrame:\")\n",
    "print(primeira_linha)\n",
    "\n",
    "# Selecionando a linha com índice 2 (terceira linha)\n",
    "terceira_linha = df.iloc[2]\n",
    "print(\"\\nTerceira linha do DataFrame:\")\n",
    "print(terceira_linha)"
   ]
  },
  {
   "cell_type": "markdown",
   "id": "ff697883-66dc-48c8-a8b1-d5c1dd2ed837",
   "metadata": {},
   "source": [
    "**Resumo estatístico**  \n",
    "O método `.describe()` é perfeito para gerar estatísticas descritivas das colunas numéricas."
   ]
  },
  {
   "cell_type": "code",
   "execution_count": 9,
   "id": "7568de2d-c103-4851-9d11-0009d470f22b",
   "metadata": {},
   "outputs": [
    {
     "name": "stdout",
     "output_type": "stream",
     "text": [
      "           Idade\n",
      "count   4.000000\n",
      "mean   29.500000\n",
      "std     4.203173\n",
      "min    25.000000\n",
      "25%    27.250000\n",
      "50%    29.000000\n",
      "75%    31.250000\n",
      "max    35.000000\n"
     ]
    }
   ],
   "source": [
    "# Gerando um resumo estatístico das colunas numéricas\n",
    "resumo_estatistico = df.describe()\n",
    "print(resumo_estatistico)"
   ]
  },
  {
   "cell_type": "markdown",
   "id": "2335bae1-5b12-47da-84cb-b28c5a5a6be0",
   "metadata": {},
   "source": [
    "---\n",
    "## 🏁 Conclusão\n",
    "Neste notebook, cobrimos os **fundamentos essenciais do Pandas**, a biblioteca mais poderosa para **manipulação** e **análise de dados em Python**.  \n",
    "- Aprender a diferença entre Series e DataFrames é o primeiro e mais importante passo para trabalhar com dados tabulares.  \n",
    "- Dominar métodos como `.head()`, `.info()` e `.describe()` permite uma exploração rápida e eficiente de qualquer dataset.  \n",
    "- A seleção de dados com `[]`, `.loc[]` e `.iloc[]` garante a flexibilidade necessária para acessar informações específicas no seu DataFrame.  \n",
    "- Com essas ferramentas, você tem a base sólida para iniciar qualquer projeto de análise de dados, desde a simples inspeção até a manipulação mais complexa."
   ]
  }
 ],
 "metadata": {
  "kernelspec": {
   "display_name": "Python [conda env:base] *",
   "language": "python",
   "name": "conda-base-py"
  },
  "language_info": {
   "codemirror_mode": {
    "name": "ipython",
    "version": 3
   },
   "file_extension": ".py",
   "mimetype": "text/x-python",
   "name": "python",
   "nbconvert_exporter": "python",
   "pygments_lexer": "ipython3",
   "version": "3.12.7"
  }
 },
 "nbformat": 4,
 "nbformat_minor": 5
}
