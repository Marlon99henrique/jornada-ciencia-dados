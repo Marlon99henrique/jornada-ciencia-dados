{
 "cells": [
  {
   "cell_type": "markdown",
   "id": "00a522a8-6a96-4a87-b475-8bb246175d2f",
   "metadata": {},
   "source": [
    "# 📂 Leitura e Escrita de Dados com Pandas\n",
    "---\n",
    "## 1. Introdução\n",
    "Neste notebook, vamos explorar a capacidade do Pandas de interagir com diferentes fontes de dados. A habilidade de ler dados de arquivos (como CSV e Excel) e de escrever resultados em novos arquivos é um dos pilares da Análise de Dados.\n",
    "\n",
    "Vamos abordar os seguintes tópicos:  \n",
    "- Leitura e escrita de arquivos `CSV`.  \n",
    "- Leitura e escrita de arquivos `Excel`.  \n",
    "- Leitura e escrita de arquivos `JSON`.  \n",
    "- Menção a outras fontes de dados comuns.\n",
    "---\n",
    "## 2. Configuração e Exemplo de DataFrame\n",
    "Primeiro, vamos importar a biblioteca Pandas e criar um DataFrame simples que usaremos para demonstrar as operações de escrita."
   ]
  },
  {
   "cell_type": "code",
   "execution_count": 1,
   "id": "1e82ddf3-1c08-4582-ad03-b190918d5047",
   "metadata": {},
   "outputs": [
    {
     "name": "stdout",
     "output_type": "stream",
     "text": [
      "DataFrame de Exemplo:\n",
      "    Produto  Preço  Em_Estoque\n",
      "0  Notebook   2500        True\n",
      "1   Monitor   1200        True\n",
      "2   Teclado    150       False\n",
      "3     Mouse     80        True\n"
     ]
    }
   ],
   "source": [
    "import pandas as pd\n",
    "import os # Importamos 'os' para facilitar a gestão de caminhos de arquivos\n",
    "\n",
    "# Criando um DataFrame de exemplo\n",
    "dados_exemplo = {\n",
    "    'Produto': ['Notebook', 'Monitor', 'Teclado', 'Mouse'],\n",
    "    'Preço': [2500, 1200, 150, 80],\n",
    "    'Em_Estoque': [True, True, False, True]\n",
    "}\n",
    "df_exemplo = pd.DataFrame(dados_exemplo)\n",
    "\n",
    "print(\"DataFrame de Exemplo:\")\n",
    "print(df_exemplo)"
   ]
  },
  {
   "cell_type": "markdown",
   "id": "6068fee1-c23e-4330-a712-a9ab473a0010",
   "metadata": {},
   "source": [
    "---\n",
    "## 3. Arquivos CSV\n",
    "O formato CSV (Comma-Separated Values) é o mais comum e versátil para a troca de dados.  \n",
    "**Lendo um arquivo CSV**  \n",
    "Use o método `pd.read_csv()` para carregar um arquivo CSV para um DataFrame."
   ]
  },
  {
   "cell_type": "code",
   "execution_count": 2,
   "id": "ce0f2e44-4c23-4667-9062-065378c4bead",
   "metadata": {},
   "outputs": [],
   "source": [
    "# Supondo que você tem um arquivo chamado 'dados_vendas.csv'\n",
    "# df_vendas = pd.read_csv('dados_vendas.csv')\n",
    "# print(df_vendas.head())"
   ]
  },
  {
   "cell_type": "markdown",
   "id": "6c5615c5-cf97-4a89-845b-28553214843d",
   "metadata": {},
   "source": [
    "**Escrevendo em um arquivo CSV**  \n",
    "Use o método `.to_csv()` para salvar um DataFrame em um arquivo CSV. É uma boa prática usar `index=False` para evitar que o Pandas salve o índice do DataFrame como uma nova coluna."
   ]
  },
  {
   "cell_type": "code",
   "execution_count": 3,
   "id": "e7b76414-1bf6-480f-bf5e-a9dc3e9756c2",
   "metadata": {},
   "outputs": [
    {
     "name": "stdout",
     "output_type": "stream",
     "text": [
      "\n",
      "Arquivo 'produtos.csv' criado com sucesso!\n",
      "\n",
      "DataFrame lido do arquivo 'produtos.csv':\n",
      "    Produto  Preço  Em_Estoque\n",
      "0  Notebook   2500        True\n",
      "1   Monitor   1200        True\n",
      "2   Teclado    150       False\n",
      "3     Mouse     80        True\n"
     ]
    }
   ],
   "source": [
    "# Salvando nosso DataFrame de exemplo em um novo arquivo CSV\n",
    "df_exemplo.to_csv('produtos.csv', index=False)\n",
    "print(\"\\nArquivo 'produtos.csv' criado com sucesso!\")\n",
    "\n",
    "# Podemos ler o arquivo que acabamos de criar para verificar\n",
    "df_produtos_csv = pd.read_csv('produtos.csv')\n",
    "print(\"\\nDataFrame lido do arquivo 'produtos.csv':\")\n",
    "print(df_produtos_csv)"
   ]
  },
  {
   "cell_type": "markdown",
   "id": "45cdf4d3-64f2-44c2-8447-3db01d0aad7e",
   "metadata": {},
   "source": [
    "---\n",
    "## 4. Arquivos Excel\n",
    "O Pandas também oferece suporte robusto para arquivos `.xlsx`. Para isso, você precisará ter a biblioteca `openpyxl` instalada (`pip install openpyxl`).  \n",
    "**Lendo um arquivo Excel** \n",
    "Use `pd.read_excel()` para carregar um arquivo Excel. Você também pode especificar a planilha se o arquivo tiver várias."
   ]
  },
  {
   "cell_type": "code",
   "execution_count": 4,
   "id": "488d4a47-9d95-48f6-aea2-ce75220f7a09",
   "metadata": {},
   "outputs": [],
   "source": [
    "# Supondo que você tem um arquivo chamado 'dados_financeiros.xlsx'\n",
    "# df_financeiro = pd.read_excel('dados_financeiros.xlsx', sheet_name='Planilha1')\n",
    "# print(df_financeiro.head())"
   ]
  },
  {
   "cell_type": "markdown",
   "id": "a5895d03-3bb5-4e8b-a874-26e1b8c1c69e",
   "metadata": {},
   "source": [
    "**Escrevendo em um arquivo Excel**  \n",
    "Use `.to_excel()` para salvar um DataFrame em um arquivo Excel."
   ]
  },
  {
   "cell_type": "code",
   "execution_count": 5,
   "id": "a45d3963-a9e2-4c34-bf20-de44e08c84e8",
   "metadata": {},
   "outputs": [
    {
     "name": "stdout",
     "output_type": "stream",
     "text": [
      "\n",
      "Arquivo 'produtos.xlsx' criado com sucesso!\n"
     ]
    }
   ],
   "source": [
    "# Salvando nosso DataFrame de exemplo em um novo arquivo Excel\n",
    "df_exemplo.to_excel('produtos.xlsx', index=False)\n",
    "print(\"\\nArquivo 'produtos.xlsx' criado com sucesso!\")"
   ]
  },
  {
   "cell_type": "markdown",
   "id": "0019ab4f-29df-4b8a-bcf0-45ed37edfe52",
   "metadata": {},
   "source": [
    "---\n",
    "## 5. Arquivos JSON\n",
    "JSON (JavaScript Object Notation) é um formato muito comum para dados aninhados.  \n",
    "**Lendo um arquivo JSON**  \n",
    "Use `pd.read_json()` para carregar um arquivo JSON."
   ]
  },
  {
   "cell_type": "code",
   "execution_count": 6,
   "id": "51371b03-1c13-409a-8a7f-5c513fc5ce25",
   "metadata": {},
   "outputs": [],
   "source": [
    "# Supondo que você tem um arquivo chamado 'dados_usuario.json'\n",
    "# df_json = pd.read_json('dados_usuario.json')\n",
    "# print(df_json.head())"
   ]
  },
  {
   "cell_type": "markdown",
   "id": "0b7ecfcb-18de-40fa-b4ea-0bde997bed57",
   "metadata": {},
   "source": [
    "**Escrevendo em um arquivo JSON**  \n",
    "Use `.to_json()` para salvar um DataFrame em um arquivo JSON."
   ]
  },
  {
   "cell_type": "code",
   "execution_count": 7,
   "id": "b91d3c69-3397-4e83-a4a0-7f1d474be300",
   "metadata": {},
   "outputs": [
    {
     "name": "stdout",
     "output_type": "stream",
     "text": [
      "\n",
      "Arquivo 'produtos.json' criado com sucesso!\n"
     ]
    }
   ],
   "source": [
    "# Salvando nosso DataFrame de exemplo em um novo arquivo JSON\n",
    "df_exemplo.to_json('produtos.json', orient='records')\n",
    "print(\"\\nArquivo 'produtos.json' criado com sucesso!\")"
   ]
  },
  {
   "cell_type": "markdown",
   "id": "3e144475-95a9-4c5a-bcd3-5794ca8f1a9a",
   "metadata": {},
   "source": [
    "---\n",
    "## 6. Outras Fontes de Dados\n",
    "O Pandas se integra a muitas outras fontes, como bancos de dados SQL. Para isso, é necessário instalar drivers de banco de dados específicos (por exemplo, `sqlalchemy` e `psycopg2`).  \n",
    "- SQL: `pd.read_sql()` e `.to_sql()`."
   ]
  },
  {
   "cell_type": "markdown",
   "id": "aeed39f2-db72-4d37-adeb-1bc13ffb4b35",
   "metadata": {},
   "source": [
    "---\n",
    "## 🏁 Conclusão\n",
    "As **operações de leitura** e **escrita de dados** com **Pandas** são essenciais para qualquer projeto de Ciência de Dados.  \n",
    "- A biblioteca oferece métodos simples e eficientes, como `read_csv()` e `to_csv()`, para interagir com os formatos de arquivo mais comuns.  \n",
    "- O suporte a `.xlsx` e `.json` garante a flexibilidade para trabalhar com dados de diversas fontes.  \n",
    "- Dominar essas funcionalidades permite que você carregue dados para análise, salve resultados e integre seu trabalho com outras ferramentas. \n",
    "- Essa habilidade é um passo crucial para construir pipelines de dados robustos e eficientes."
   ]
  }
 ],
 "metadata": {
  "kernelspec": {
   "display_name": "Python [conda env:base] *",
   "language": "python",
   "name": "conda-base-py"
  },
  "language_info": {
   "codemirror_mode": {
    "name": "ipython",
    "version": 3
   },
   "file_extension": ".py",
   "mimetype": "text/x-python",
   "name": "python",
   "nbconvert_exporter": "python",
   "pygments_lexer": "ipython3",
   "version": "3.12.7"
  }
 },
 "nbformat": 4,
 "nbformat_minor": 5
}
